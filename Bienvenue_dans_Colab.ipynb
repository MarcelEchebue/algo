{
  "cells": [
    {
      "cell_type": "markdown",
      "metadata": {
        "id": "view-in-github",
        "colab_type": "text"
      },
      "source": [
        "<a href=\"https://colab.research.google.com/github/MarcelEchebue/algo/blob/main/Bienvenue_dans_Colab.ipynb\" target=\"_parent\"><img src=\"https://colab.research.google.com/assets/colab-badge.svg\" alt=\"Open In Colab\"/></a>"
      ]
    },
    {
      "cell_type": "code",
      "source": [
        "!pip install mistralai"
      ],
      "metadata": {
        "id": "GgDMmfIZLDzg"
      },
      "execution_count": null,
      "outputs": []
    },
    {
      "cell_type": "code",
      "source": [
        "# 2. Importa y crea el cliente\n",
        "from mistralai import Mistral\n",
        "# Reemplaza con tu API key real\n",
        "api_key = \"r0kXaQQdt8ypcpGhOiiCbNMVVC8Sg47K\""
      ],
      "metadata": {
        "id": "x96Y4vrCLduE"
      },
      "execution_count": 4,
      "outputs": []
    },
    {
      "cell_type": "code",
      "source": [
        "client = Mistral(api_key=api_key)"
      ],
      "metadata": {
        "id": "nFpYv1ZOPQgr"
      },
      "execution_count": 6,
      "outputs": []
    },
    {
      "cell_type": "code",
      "source": [
        "try:\n",
        "    response = client.chat.complete(\n",
        "        model=\"open-mistral-7b\",  # prueba también \"open-mixtral-8x7b\"\n",
        "        messages=[\n",
        "            {\"role\": \"system\", \"content\": \"T'es un ChatBot.\"},\n",
        "            {\"role\": \"user\", \"content\": \"Explique en 3 phrase c'est quoi MIT Dakar.\"}\n",
        "        ]\n",
        "    )\n",
        "\n",
        "    # Ahora usamos .content en lugar de [\"content\"]\n",
        "    print(response.choices[0].message.content)\n",
        "\n",
        "except Exception as e:\n",
        "    print(\"Error en la llamada a Mistral:\", e)"
      ],
      "metadata": {
        "colab": {
          "base_uri": "https://localhost:8080/"
        },
        "id": "G4v3-jLbPAVe",
        "outputId": "db5dc716-99f7-49b0-9c96-4862ddedb9d2"
      },
      "execution_count": 26,
      "outputs": [
        {
          "output_type": "stream",
          "name": "stdout",
          "text": [
            "MIT Dakar est une extension du Massachusetts Institute of Technology (MIT) à Boston, aux États-Unis, située à Dakar, au Sénégal. C'est un campus d'enseignement et de recherche technologique, qui vise à développer des solutions innovantes pour les problèmes locaux et internationaux. Il partage la culture d'enseignement et de recherche du MIT avec une perspective sur les questions spécifiques aux pays en développement et aux communautés africaines.\n"
          ]
        }
      ]
    },
    {
      "cell_type": "code",
      "source": [
        "# Principe 1 : Instructions claires et spécifiques\n",
        "def generate_with_clear_instructions(prompt):\n",
        "    res = client.chat.complete(\n",
        "        model=\"open-mistral-7b\",  # puedes cambiar a \"open-mixtral-8x7b\"\n",
        "        messages=[\n",
        "            {\"role\": \"user\", \"content\": prompt}\n",
        "        ],\n",
        "        temperature=0.7,\n",
        "        max_tokens=1000\n",
        "    )\n",
        "    # Nota: ahora usamos .content\n",
        "    return res.choices[0].message.content\n",
        "\n",
        "# Ejemplo de uso\n",
        "prompt_recette = \"Qui a gagné la Ligue des Champions en 2016 ?\"\n",
        "print(\"Réponse générée :\")\n",
        "print(generate_with_clear_instructions(prompt_recette))"
      ],
      "metadata": {
        "colab": {
          "base_uri": "https://localhost:8080/"
        },
        "id": "P1-1GAD1SqYe",
        "outputId": "0cd6e4e6-6e46-46f7-d62b-c124a027e72a"
      },
      "execution_count": 13,
      "outputs": [
        {
          "output_type": "stream",
          "name": "stdout",
          "text": [
            "Réponse générée :\n",
            "En 2016, Real Madrid a gagné la Ligue des Champions. Le Real Madrid a battu l'Atletico Madrid en finale (5-3 après prolongation). Le but de la victoire a été marqué par Sergio Ramos à la 93e minute de la prolongation.\n"
          ]
        }
      ]
    },
    {
      "cell_type": "code",
      "source": [
        "# Principe 2 : Décomposer les tâches complexes\n",
        "def decompose_task(prompt):\n",
        "    res = client.chat.complete(\n",
        "        model=\"open-mistral-7b\",\n",
        "        messages=[\n",
        "            {\"role\": \"user\", \"content\": prompt}\n",
        "        ],\n",
        "        temperature=0.7,\n",
        "        max_tokens=1000\n",
        "    )\n",
        "    # Acceso correcto al contenido\n",
        "    return res.choices[0].message.content\n",
        "\n",
        "# Ejemplo\n",
        "prompt_decomposition = \"Crée un plan pour lancer une nouvelle application mobile.\"\n",
        "print(\"Étapes décomposées :\")\n",
        "print(decompose_task(prompt_decomposition))"
      ],
      "metadata": {
        "id": "-Pe72iqYZmwS"
      },
      "execution_count": null,
      "outputs": []
    },
    {
      "cell_type": "code",
      "source": [
        "# Synthèse basique\n",
        "def basic_summary(text, max_length=50):\n",
        "    res = client.chat.complete(\n",
        "        model=\"open-mistral-7b\",\n",
        "        messages=[\n",
        "            {\"role\": \"user\", \"content\": f\"Résume ce texte en français en {max_length} mots maximum:\\n{text}\"}\n",
        "        ],\n",
        "        max_tokens=max_length\n",
        "    )\n",
        "    return res.choices[0].message.content\n",
        "\n",
        "# Exemple : Résumé d'avis\n",
        "avis = \"\"\"\n",
        "Excellent produit! La batterie dure longtemps mais l'écran pourrait être plus lumineux.\n",
        "Livraison rapide et emballage soigné.\n",
        "\"\"\"\n",
        "\n",
        "print(\"\\nSynthèse basique :\")\n",
        "print(basic_summary(avis, 30))"
      ],
      "metadata": {
        "colab": {
          "base_uri": "https://localhost:8080/"
        },
        "id": "ffHPFOeGey5C",
        "outputId": "e9b901f8-a194-4d80-a1bb-5d8a9eba8d8f"
      },
      "execution_count": 22,
      "outputs": [
        {
          "output_type": "stream",
          "name": "stdout",
          "text": [
            "\n",
            "Synthèse basique :\n",
            "Produit excellent avec batterie durable, écran peu lumineux. Livraison rapide et emballage soigné.\n"
          ]
        }
      ]
    },
    {
      "cell_type": "code",
      "source": [
        "def iterative_prompting(base_prompt, iterations):\n",
        "    results = []\n",
        "    current_prompt = base_prompt\n",
        "\n",
        "    for i in range(iterations):\n",
        "        res = client.chat.complete(\n",
        "        model=\"open-mistral-7b\",\n",
        "            messages=[\n",
        "                {\"role\": \"user\", \"content\": current_prompt}\n",
        "            ]\n",
        "        )\n",
        "        results.append(res.choices[0].message.content)\n",
        "\n",
        "        # Affinage du prompt (exemple : ajouter des détails)\n",
        "        if i < iterations - 1:\n",
        "            current_prompt += f\"\\nItération {i+2} : Ajoute des spécifications techniques.\"\n",
        "\n",
        "    return results\n",
        "\n",
        "# Exemple : Description marketing itérative\n",
        "base_prompt = \"\"\"\n",
        "Écris une description pour un nouveau smartphone.\n",
        "Public cible : jeunes professionnels.\n",
        "\"\"\"\n",
        "\n",
        "print(\"\\nDéveloppement itératif :\")\n",
        "for i, result in enumerate(iterative_prompting(base_prompt, 3)):\n",
        "    print(f\"Itération {i+1}:\\n{result}\\n\")"
      ],
      "metadata": {
        "id": "zhubRPSKgmjH"
      },
      "execution_count": null,
      "outputs": []
    },
    {
      "cell_type": "code",
      "source": [
        "# Analyse de sentiment\n",
        "def analyze_sentiment(text):\n",
        "    res = client.chat.complete(\n",
        "        model=\"open-mistral-7b\",\n",
        "        messages=[\n",
        "            {\"role\": \"user\", \"content\": f\"Détermine le sentiment de ce texte (positif/négatif/neutre):\\n{text}\"}\n",
        "        ],\n",
        "        max_tokens=2000\n",
        "    )\n",
        "    return res.choices[0].message.content\n",
        "\n",
        "print(\"\\nAnalyse de sentiment :\")\n",
        "print(analyze_sentiment(\"Le service client était catastrophique!\"))"
      ],
      "metadata": {
        "colab": {
          "base_uri": "https://localhost:8080/"
        },
        "id": "uyCQ1ACJhbiO",
        "outputId": "44ffe30d-c73a-448f-ec5a-fd51ad2de4a6"
      },
      "execution_count": 25,
      "outputs": [
        {
          "output_type": "stream",
          "name": "stdout",
          "text": [
            "\n",
            "Analyse de sentiment :\n",
            "Le sentiment de ce texte est négatif.\n"
          ]
        }
      ]
    },
    {
      "cell_type": "code",
      "source": [
        "# Traduction\n",
        "def translate_text(text, target_lang):\n",
        "    res = client.chat.complete(\n",
        "        model=\"open-mistral-7b\",\n",
        "        messages=[\n",
        "            {\"role\": \"user\", \"content\": f\"Traduis ce texte en {target_lang}:\\n{text}\"}\n",
        "        ],\n",
        "        max_tokens=2000\n",
        "    )\n",
        "    return res.choices[0].message.content\n",
        "\n",
        "print(\"\\nTraduction (anglais) :\")\n",
        "print(translate_text(\"Bonjour, comment ça va?\", \"anglais\"))"
      ],
      "metadata": {
        "colab": {
          "base_uri": "https://localhost:8080/"
        },
        "id": "7J0rH4qNkSZT",
        "outputId": "6433eecf-b9d4-4b52-f01e-e2049a6f3aec"
      },
      "execution_count": 29,
      "outputs": [
        {
          "output_type": "stream",
          "name": "stdout",
          "text": [
            "\n",
            "Traduction (espagnol) :\n",
            "Hola, ¿cómo estás? (This translation is informal and casual, more like \"Hey, how are you?\")\n",
            "\n",
            "For a more formal greeting:\n",
            "\n",
            "- Hola, ¿cómo estás de salud? (How are you today?)\n",
            "- Hola, ¿cómo estás en esta mañana/tarde/noche? (How are you this morning/afternoon/evening?)\n"
          ]
        }
      ]
    },
    {
      "cell_type": "code",
      "source": [
        "# Ajustement de ton\n",
        "def adjust_tone(text, target_tone):\n",
        "    res = client.chat.complete(\n",
        "        model=\"open-mistral-7b\",\n",
        "        messages=[\n",
        "            {\"role\": \"user\", \"content\": f\"Reformule ce texte en français avec un ton {target_tone}:\\n{text}\"}\n",
        "        ],\n",
        "        max_tokens=1500\n",
        "    )\n",
        "    return res.choices[0].message.content\n",
        "\n",
        "print(\"\\nAjustement de ton (professionnel) :\")\n",
        "print(adjust_tone(\"Salut mec! T'as vu le nouveau rapport?\", \"professionnel\"))"
      ],
      "metadata": {
        "colab": {
          "base_uri": "https://localhost:8080/"
        },
        "id": "555FhvuilJBL",
        "outputId": "5a9153fc-1132-4ccc-880b-96b34f411c59"
      },
      "execution_count": 31,
      "outputs": [
        {
          "output_type": "stream",
          "name": "stdout",
          "text": [
            "\n",
            "Ajustement de ton (professionnel) :\n",
            "Bonjour monsieur/dame,\n",
            "\n",
            "Avez-vous eu l'occasion de lire le nouveau rapport récemment publié?\n"
          ]
        }
      ]
    }
  ],
  "metadata": {
    "colab": {
      "name": "Bienvenue dans Colab",
      "toc_visible": true,
      "provenance": [],
      "include_colab_link": true
    },
    "kernelspec": {
      "display_name": "Python 3",
      "name": "python3"
    }
  },
  "nbformat": 4,
  "nbformat_minor": 0
}